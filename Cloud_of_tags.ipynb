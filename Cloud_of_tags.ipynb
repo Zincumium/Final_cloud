{
 "cells": [
  {
   "cell_type": "code",
   "execution_count": null,
   "id": "3b972c6d",
   "metadata": {},
   "outputs": [],
   "source": [
    "f = open('text.txt', \"r\", encoding=\"utf-8\")\n",
    "text = f.read()\n",
    "len(text)\n",
    "text[:500]\n",
    "text = text.lower()\n",
    "import string\n",
    "print(string.punctuation)\n",
    "symbols = string.punctuation + '/|\\.,()-_=+%<>'\n",
    "def delete_symbols(text, symbols):\n",
    "    return \"\".join([ch for ch in text if ch not in symbols])\n",
    "text = delete_symbols(text, symbols)\n",
    "text = delete_symbols(text, string.digits)\n",
    "import nltk\n",
    "nltk.download(['punkt'])\n",
    "from nltk import word_tokenize \n",
    "text_token = word_tokenize(text)\n",
    "len(text_token)\n",
    "text_token[:10]\n",
    "text = nltk.Text(text_token)\n",
    "print(type(text))\n",
    "text[:10]\n",
    "from nltk.corpus import stopwords\n",
    "filtered_words = stopwords.words(\"russian\")\n",
    "filtered_words.extend([u'я', u'а', u'да', u'но', u'тебе', u'мне', u'ты', u'и', u'у', u'на', u'ща', u'ага',\n",
    "u'так', u'там', u'какие', u'который', u'какая', u'туда', u'давай', u'короче', u'кажется', u'вообще',\n",
    "u'ну', u'не', u'чет', u'неа', u'свои', u'наше', u'хотя', u'такое', u'например', u'кароч', u'как-то',\n",
    "u'нам', u'хм', u'всем', u'нет', u'да', u'оно', u'своем', u'про', u'вы', u'м', u'тд',\n",
    "u'вся', u'кто-то', u'что-то', u'вам', u'это', u'эта', u'эти', u'этот', u'прям', u'либо', u'как', u'мы',\n",
    "u'просто', u'блин', u'очень', u'самые', u'твоем', u'ваша', u'кстати', u'вроде', u'типа', u'пока', u'ок'])\n",
    "from wordcloud import WordCloud\n",
    "import matplotlib.pyplot as plt\n",
    "text_raw = \" \".join(text)\n",
    "wcloud = WordCloud(stopwords = filtered_words).generate(text_raw)\n",
    "plt.imshow(wcloud)\n",
    "plt.axis('off')\n",
    "plt.show()\n",
    "wcloud.to_file('test.jpg')\n"
   ]
  }
 ],
 "metadata": {
  "kernelspec": {
   "display_name": "Python 3 (ipykernel)",
   "language": "python",
   "name": "python3"
  },
  "language_info": {
   "codemirror_mode": {
    "name": "ipython",
    "version": 3
   },
   "file_extension": ".py",
   "mimetype": "text/x-python",
   "name": "python",
   "nbconvert_exporter": "python",
   "pygments_lexer": "ipython3",
   "version": "3.7.8"
  }
 },
 "nbformat": 4,
 "nbformat_minor": 5
}
